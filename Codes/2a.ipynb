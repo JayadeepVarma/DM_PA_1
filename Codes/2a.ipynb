{
 "cells": [
  {
   "cell_type": "markdown",
   "id": "8a1ab96b-b192-480a-8b48-2f4abe699496",
   "metadata": {},
   "source": [
    "https://github.com/JayadeepVarma/DM_PA_1.git"
   ]
  },
  {
   "cell_type": "markdown",
   "id": "6a78ff90-c2e4-4eb4-bf1a-17aa3115ade4",
   "metadata": {},
   "source": [
    "2.(a) Cropping and Resize Images in Your 4-class Images Dataset:"
   ]
  },
  {
   "cell_type": "code",
   "execution_count": 1,
   "id": "fd76fe36-c243-4980-b0fd-1452cf219d52",
   "metadata": {},
   "outputs": [
    {
     "name": "stdout",
     "output_type": "stream",
     "text": [
      "Classes in Image Directory:\n",
      " ['n02092002-Scottish_deerhound', 'n02093428-American_Staffordshire_terrier', 'n02094114-Norfolk_terrier', 'n02110958-pug']\n",
      "The total Images in four classes are  768\n",
      "\n",
      "Classes in Annotation Directory:\n",
      " ['n02092002-Scottish_deerhound', 'n02093428-American_Staffordshire_terrier', 'n02094114-Norfolk_terrier', 'n02110958-pug']\n",
      "The total Annotations in four classes are  768\n",
      "\n",
      "Images are cropped\n"
     ]
    }
   ],
   "source": [
    "import os\n",
    "from PIL import Image \n",
    "import glob\n",
    "import xml.etree.ElementTree as ET\n",
    "from pathlib import Path\n",
    "import warnings\n",
    "warnings.filterwarnings(\"ignore\")\n",
    "\n",
    "img_dir = r'D:\\Data Mining\\Programming Assignment - 1\\Data Files\\Images'\n",
    "ann_dir = r'D:\\Data Mining\\Programming Assignment - 1\\Data Files\\Annotation'\n",
    "\n",
    "# Function to list items in a directory\n",
    "def list_directory(dir):\n",
    "    try:\n",
    "        items = os.listdir(dir)\n",
    "        return items\n",
    "    except FileNotFoundError:\n",
    "        print(f\"Directory '{dir}' not found.\")\n",
    "        return []\n",
    "\n",
    "dog_images = glob.glob(img_dir+'\\\\*\\\\*')\n",
    "annotations = glob.glob(ann_dir+'\\\\*\\\\*')\n",
    "\n",
    "# Listing of items in both of the directories\n",
    "isub, asub = list_directory(img_dir), list_directory(ann_dir)\n",
    "print(\"Classes in Image Directory:\\n\",isub)\n",
    "print(\"The total Images in four classes are \",len(dog_images))\n",
    "print(\"\\nClasses in Annotation Directory:\\n\",asub)\n",
    "print(\"The total Annotations in four classes are \",len(annotations))\n",
    "print()\n",
    "\n",
    "# From the annotations the range of X and Y coordinates are read\n",
    "def get_bounding_boxes(ann):\n",
    "    tree = ET.parse(ann)\n",
    "    root = tree.getroot()\n",
    "    objects = root.findall('object')\n",
    "    bbox = []\n",
    "    for o in objects:\n",
    "        bndbox = o.find('bndbox')\n",
    "        xmin = int(bndbox.find('xmin').text)\n",
    "        ymin = int(bndbox.find('ymin').text)\n",
    "        xmax = int(bndbox.find('xmax').text)\n",
    "        ymax = int(bndbox.find('ymax').text)\n",
    "        bbox.append((xmin,ymin,xmax,ymax))\n",
    "    return bbox\n",
    "\n",
    "# The function to retrieve image path\n",
    "def get_image(annot):\n",
    "    file = annot.split('\\\\')\n",
    "    img_filename = img_dir+'\\\\' + file[-2]+'\\\\'+file[-1]+'.jpg'\n",
    "    return img_filename\n",
    "\n",
    "# Cropping of the Images from all the four classes\n",
    "for i in range(len(dog_images)):\n",
    "    bbox = get_bounding_boxes(annotations[i])\n",
    "    dog = get_image(annotations[i])\n",
    "    im = Image.open(dog)\n",
    "    \n",
    "    # To process the first bounding box\n",
    "    if bbox:\n",
    "        im2 = im.crop(bbox[0])\n",
    "        im2 = im2.resize((128, 128))\n",
    "        new_path = dog.replace('D:\\\\Data Mining\\\\Programming Assignment - 1\\\\Data Files\\\\Images\\\\', '.\\\\Cropped-1\\\\')\n",
    "        new_path = new_path.replace('.jpg','-' + str(0) + '.jpg')\n",
    "        im2 = im2.convert('RGB')\n",
    "        head, tail = os.path.split(new_path)\n",
    "        Path(head).mkdir(parents=True, exist_ok=True)\n",
    "        im2.save(new_path)\n",
    "        #print(f\"Cropped image saved: {new_path}\")  # Confirmation message\n",
    "\n",
    "    # To process all bounding boxes\n",
    "    for j in range(len(bbox)):\n",
    "        im2 = im.crop(bbox[j])\n",
    "        im2 = im2.resize((128,128))\n",
    "        new_path = dog.replace('D:\\\\Data Mining\\\\Programming Assignment - 1\\\\Data Files\\\\Images\\\\','.\\\\Cropped-2\\\\')\n",
    "        new_path = new_path.replace('.jpg','-' + str(j) + '.jpg')\n",
    "        im2=im2.convert('RGB')\n",
    "        head, tail = os.path.split(new_path)\n",
    "        Path(head).mkdir(parents=True, exist_ok=True)\n",
    "        im2.save(new_path)\n",
    "       # print(f\"Cropped image saved: {new_path}\")  # Confirmation message\n",
    "print(\"Images are cropped\")"
   ]
  },
  {
   "cell_type": "code",
   "execution_count": null,
   "id": "3ac16941-8f42-410f-b1f9-9d30571868c0",
   "metadata": {},
   "outputs": [],
   "source": []
  }
 ],
 "metadata": {
  "kernelspec": {
   "display_name": "pa1",
   "language": "python",
   "name": "pa1"
  },
  "language_info": {
   "codemirror_mode": {
    "name": "ipython",
    "version": 3
   },
   "file_extension": ".py",
   "mimetype": "text/x-python",
   "name": "python",
   "nbconvert_exporter": "python",
   "pygments_lexer": "ipython3",
   "version": "3.12.6"
  }
 },
 "nbformat": 4,
 "nbformat_minor": 5
}
